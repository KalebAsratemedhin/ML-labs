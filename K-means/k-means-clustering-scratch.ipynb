{
 "cells": [
  {
   "cell_type": "markdown",
   "metadata": {},
   "source": [
    "# K-means Clustering From Scratch"
   ]
  },
  {
   "cell_type": "code",
   "execution_count": 1,
   "metadata": {},
   "outputs": [],
   "source": [
    "import numpy as np\n",
    "import matplotlib.pyplot as plt\n",
    "import pandas as pd\n",
    "from sklearn.datasets import load_iris"
   ]
  },
  {
   "cell_type": "markdown",
   "metadata": {},
   "source": [
    "### Step-1 Initialize K centroids at random place"
   ]
  },
  {
   "cell_type": "code",
   "execution_count": 2,
   "metadata": {},
   "outputs": [],
   "source": [
    "def place_centroids(k):\n",
    "    np.random.seed(42)\n",
    "    centroids = np.random.rand(k, 2)\n",
    "    return centroids"
   ]
  },
  {
   "cell_type": "code",
   "execution_count": 3,
   "metadata": {},
   "outputs": [
    {
     "data": {
      "text/plain": [
       "<matplotlib.collections.PathCollection at 0x79b0686e5d90>"
      ]
     },
     "execution_count": 3,
     "metadata": {},
     "output_type": "execute_result"
    },
    {
     "data": {
      "image/png": "[encoded data removed]",
      "text/plain": [
       "<Figure size 640x480 with 1 Axes>"
      ]
     },
     "metadata": {},
     "output_type": "display_data"
    }
   ],
   "source": [
    "init_centroids = place_centroids(3)\n",
    "plt.scatter(init_centroids[:,0], init_centroids[:,1], c='b',  )\n"
   ]
  },
  {
   "cell_type": "markdown",
   "metadata": {},
   "source": [
    "### Step 2: Compute distance of every point from the centroid and assign each data point to the closest centroid"
   ]
  },
  {
   "cell_type": "code",
   "execution_count": 4,
   "metadata": {},
   "outputs": [],
   "source": [
    "def k_means_one_round(data: pd.DataFrame, k, centroids, prev):\n",
    "    groups = []\n",
    "    group_sums = {i: np.array([0.0, 0.0]) for i in range(k)}\n",
    "    group_counts = {i: 0 for i in range(k)}\n",
    "\n",
    "    for _, row in data.iterrows():\n",
    "        x, y = row[0], row[1]\n",
    "        min_distance = float('inf')\n",
    "        closest_centroid = -1\n",
    "\n",
    "        for i in range(k):\n",
    "            cx, cy = centroids[i]\n",
    "            distance = np.sqrt(np.square(cx - x) + np.square(cy - y))\n",
    "            if distance < min_distance:\n",
    "                min_distance = distance\n",
    "                closest_centroid = i\n",
    "\n",
    "        groups.append(closest_centroid)\n",
    "        group_sums[closest_centroid] += np.array([x, y])\n",
    "        group_counts[closest_centroid] += 1\n",
    "\n",
    "    \n",
    "    changed_group_count = 0\n",
    "    new_centroids = []\n",
    "    for i in range(k):\n",
    "        if group_counts[i] > 0:\n",
    "            new_centroid = group_sums[i] / group_counts[i]\n",
    "        else:\n",
    "            new_centroid = centroids[i]\n",
    "        new_centroids.append(new_centroid)\n",
    "\n",
    "    for i in range(len(prev)):\n",
    "        if prev[i] != groups[i]:\n",
    "            changed_group_count += 1\n",
    "\n",
    "\n",
    "    return np.array(new_centroids), groups, changed_group_count\n",
    "\n",
    "\n"
   ]
  },
  {
   "cell_type": "markdown",
   "metadata": {},
   "source": [
    "### Step 3: Repeat Until the grouping converges"
   ]
  },
  {
   "cell_type": "code",
   "execution_count": 5,
   "metadata": {},
   "outputs": [],
   "source": [
    "def k_means(data: pd.DataFrame, k, centroids):\n",
    "    changed_groups = data.shape[0]\n",
    "    curr = centroids\n",
    "    predicted = [-1] * changed_groups\n",
    "    \n",
    "    while changed_groups > 0:\n",
    "        curr, predicted, changed_groups = k_means_one_round(data, k, curr, predicted)\n",
    "\n",
    "    return predicted, curr\n",
    "    "
   ]
  },
  {
   "cell_type": "code",
   "execution_count": 6,
   "metadata": {},
   "outputs": [
    {
     "data": {
      "text/html": [
       "<div>\n",
       "<style scoped>\n",
       "    .dataframe tbody tr th:only-of-type {\n",
       "        vertical-align: middle;\n",
       "    }\n",
       "\n",
       "    .dataframe tbody tr th {\n",
       "        vertical-align: top;\n",
       "    }\n",
       "\n",
       "    .dataframe thead th {\n",
       "        text-align: right;\n",
       "    }\n",
       "</style>\n",
       "<table border=\"1\" class=\"dataframe\">\n",
       "  <thead>\n",
       "    <tr style=\"text-align: right;\">\n",
       "      <th></th>\n",
       "      <th>sepal length (cm)</th>\n",
       "      <th>sepal width (cm)</th>\n",
       "      <th>petal length (cm)</th>\n",
       "      <th>petal width (cm)</th>\n",
       "    </tr>\n",
       "  </thead>\n",
       "  <tbody>\n",
       "    <tr>\n",
       "      <th>0</th>\n",
       "      <td>5.1</td>\n",
       "      <td>3.5</td>\n",
       "      <td>1.4</td>\n",
       "      <td>0.2</td>\n",
       "    </tr>\n",
       "    <tr>\n",
       "      <th>1</th>\n",
       "      <td>4.9</td>\n",
       "      <td>3.0</td>\n",
       "      <td>1.4</td>\n",
       "      <td>0.2</td>\n",
       "    </tr>\n",
       "    <tr>\n",
       "      <th>2</th>\n",
       "      <td>4.7</td>\n",
       "      <td>3.2</td>\n",
       "      <td>1.3</td>\n",
       "      <td>0.2</td>\n",
       "    </tr>\n",
       "    <tr>\n",
       "      <th>3</th>\n",
       "      <td>4.6</td>\n",
       "      <td>3.1</td>\n",
       "      <td>1.5</td>\n",
       "      <td>0.2</td>\n",
       "    </tr>\n",
       "    <tr>\n",
       "      <th>4</th>\n",
       "      <td>5.0</td>\n",
       "      <td>3.6</td>\n",
       "      <td>1.4</td>\n",
       "      <td>0.2</td>\n",
       "    </tr>\n",
       "  </tbody>\n",
       "</table>\n",
       "</div>"
      ],
      "text/plain": [
       "   sepal length (cm)  sepal width (cm)  petal length (cm)  petal width (cm)\n",
       "0                5.1               3.5                1.4               0.2\n",
       "1                4.9               3.0                1.4               0.2\n",
       "2                4.7               3.2                1.3               0.2\n",
       "3                4.6               3.1                1.5               0.2\n",
       "4                5.0               3.6                1.4               0.2"
      ]
     },
     "execution_count": 6,
     "metadata": {},
     "output_type": "execute_result"
    }
   ],
   "source": [
    "iris = load_iris()\n",
    "df = pd.DataFrame(iris.data,columns=iris.feature_names)\n",
    "df.head()"
   ]
  },
  {
   "cell_type": "code",
   "execution_count": 7,
   "metadata": {},
   "outputs": [],
   "source": [
    "df.drop(['sepal length (cm)', 'sepal width (cm)'],axis='columns',inplace=True)"
   ]
  },
  {
   "cell_type": "code",
   "execution_count": 8,
   "metadata": {},
   "outputs": [
    {
     "name": "stderr",
     "output_type": "stream",
     "text": [
      "/tmp/ipykernel_65693/3866811243.py:7: FutureWarning: Series.__getitem__ treating keys as positions is deprecated. In a future version, integer keys will always be treated as labels (consistent with DataFrame behavior). To access a value by position, use `ser.iloc[pos]`\n",
      "  x, y = row[0], row[1]\n"
     ]
    }
   ],
   "source": [
    "groupings, centroids = k_means(df, 3, init_centroids)"
   ]
  },
  {
   "cell_type": "code",
   "execution_count": 17,
   "metadata": {},
   "outputs": [],
   "source": [
    "def draw_clusters(centroids, data: pd.DataFrame, predicted):\n",
    "    \n",
    "    plt.scatter(centroids[:,0], centroids[:,1], c='purple', marker='x' )\n",
    "    data['flower'] = predicted\n",
    "\n",
    "    group1 = data[data['flower'] == 0]\n",
    "    group2 = data[data['flower'] == 1]\n",
    "    group3 = data[data['flower'] == 2]\n",
    "\n",
    "    plt.scatter(group1['petal length (cm)'], group1['petal width (cm)'], c='r')\n",
    "    plt.scatter(group2['petal length (cm)'], group2['petal width (cm)'], c='g')\n",
    "    plt.scatter(group3['petal length (cm)'], group3['petal width (cm)'], c='b')\n"
   ]
  },
  {
   "cell_type": "code",
   "execution_count": 18,
   "metadata": {},
   "outputs": [
    {
     "data": {
      "image/png": "[encoded data removed]",
      "text/plain": [
       "<Figure size 640x480 with 1 Axes>"
      ]
     },
     "metadata": {},
     "output_type": "display_data"
    }
   ],
   "source": [
    "\n",
    "draw_clusters(centroids, df, groupings)"
   ]
  }
 ],
 "metadata": {
  "kernelspec": {
   "display_name": "base",
   "language": "python",
   "name": "python3"
  },
  "language_info": {
   "codemirror_mode": {
    "name": "ipython",
    "version": 3
   },
   "file_extension": ".py",
   "mimetype": "text/x-python",
   "name": "python",
   "nbconvert_exporter": "python",
   "pygments_lexer": "ipython3",
   "version": "3.12.7"
  }
 },
 "nbformat": 4,
 "nbformat_minor": 2
}
